{
 "cells": [
  {
   "attachments": {},
   "cell_type": "markdown",
   "metadata": {},
   "source": [
    "# <span style=\"color:darkblue\"> QTM 151 - Assignment 8 </span>"
   ]
  },
  {
   "attachments": {},
   "cell_type": "markdown",
   "metadata": {},
   "source": [
    "## Try to submit as an HTML file"
   ]
  },
  {
   "attachments": {},
   "cell_type": "markdown",
   "metadata": {},
   "source": [
    "\n",
    "\n",
    "### Print your name below"
   ]
  },
  {
   "cell_type": "code",
   "execution_count": 14,
   "metadata": {},
   "outputs": [],
   "source": [
    "# Write your answer here\n",
    "#Annie Lu\n"
   ]
  },
  {
   "attachments": {},
   "cell_type": "markdown",
   "metadata": {},
   "source": [
    "### Import the \"pandas\" library"
   ]
  },
  {
   "cell_type": "code",
   "execution_count": 15,
   "metadata": {},
   "outputs": [],
   "source": [
    "import pandas as pd "
   ]
  },
  {
   "attachments": {},
   "cell_type": "markdown",
   "metadata": {},
   "source": [
    "### You will need the material from Lecture 14 and 15 for this assignment."
   ]
  },
  {
   "cell_type": "markdown",
   "metadata": {},
   "source": [
    "\n",
    "\n",
    "### Import the dataset \"imdb_top_1000.csv\" and save it as \"movies.\" <br> \n",
    "This includes data on the top 1000 movies by IMDB rating."
   ]
  },
  {
   "cell_type": "code",
   "execution_count": 16,
   "metadata": {},
   "outputs": [],
   "source": [
    "movies=pd.read_csv(\"data_raw/imdb_top_1000.csv\")"
   ]
  },
  {
   "attachments": {},
   "cell_type": "markdown",
   "metadata": {},
   "source": [
    "### (a) Groupby + Aggregate Statistics\n",
    "\n",
    "Create a new dataset **\"movies_agg\"** by grouping the \"movies\" dataset by **\"Genre\"** and then computing <br>the following aggregate statistics for **\"IMDB_Rating\"**:\n",
    "\n",
    "- **Mean**\n",
    "- **Standard Deviation**\n",
    "- **Minimum**\n",
    "- **Maximum**\n",
    "\n",
    "Add a chain to sort by the mean IMDB rating in descending order.\n",
    "\n",
    "Display the resulting dataset **\"movies_agg\"**.\n",
    "\n"
   ]
  },
  {
   "cell_type": "code",
   "execution_count": 17,
   "metadata": {},
   "outputs": [
    {
     "data": {
      "application/vnd.microsoft.datawrangler.viewer.v0+json": {
       "columns": [
        {
         "name": "Genre",
         "rawType": "object",
         "type": "string"
        },
        {
         "name": "mean",
         "rawType": "float64",
         "type": "float"
        },
        {
         "name": "std",
         "rawType": "float64",
         "type": "float"
        },
        {
         "name": "min",
         "rawType": "float64",
         "type": "float"
        },
        {
         "name": "max",
         "rawType": "float64",
         "type": "float"
        }
       ],
       "conversionMethod": "pd.DataFrame",
       "ref": "53d44ad4-daec-49f0-a18d-28813bd3ba84",
       "rows": [
        [
         "Animation, Drama, War",
         "8.5",
         null,
         "8.5",
         "8.5"
        ],
        [
         "Drama, Musical",
         "8.4",
         null,
         "8.4",
         "8.4"
        ],
        [
         "Action, Sci-Fi",
         "8.4",
         "0.3605551275463989",
         "8.0",
         "8.7"
        ],
        [
         "Drama, Mystery, War",
         "8.350000000000001",
         "0.07071067811865513",
         "8.3",
         "8.4"
        ],
        [
         "Western",
         "8.35",
         "0.42031734043061625",
         "7.8",
         "8.8"
        ],
        [
         "Crime, Drama, Music",
         "8.3",
         null,
         "8.3",
         "8.3"
        ],
        [
         "Mystery, Romance, Thriller",
         "8.3",
         null,
         "8.3",
         "8.3"
        ],
        [
         "Adventure, Mystery, Thriller",
         "8.3",
         null,
         "8.3",
         "8.3"
        ],
        [
         "Drama, Fantasy, Horror",
         "8.3",
         null,
         "8.3",
         "8.3"
        ],
        [
         "Comedy, Musical, Romance",
         "8.3",
         null,
         "8.3",
         "8.3"
        ],
        [
         "Crime, Drama, Sci-Fi",
         "8.3",
         null,
         "8.3",
         "8.3"
        ],
        [
         "Drama, Family, Sport",
         "8.25",
         "0.07071067811865576",
         "8.2",
         "8.3"
        ],
        [
         "Drama, Family",
         "8.233333333333334",
         "0.20816659994661413",
         "8.0",
         "8.4"
        ],
        [
         "Action, Adventure, Fantasy",
         "8.200000000000001",
         "0.39496835316263035",
         "7.8",
         "8.7"
        ],
        [
         "Action, Comedy, Romance",
         "8.2",
         "0.0",
         "8.2",
         "8.2"
        ],
        [
         "Comedy, Music, Romance",
         "8.2",
         null,
         "8.2",
         "8.2"
        ],
        [
         "Drama, Fantasy, History",
         "8.2",
         null,
         "8.2",
         "8.2"
        ],
        [
         "Adventure, Drama, War",
         "8.2",
         "0.14142135623730964",
         "8.1",
         "8.3"
        ],
        [
         "Drama, Fantasy, War",
         "8.2",
         null,
         "8.2",
         "8.2"
        ],
        [
         "Action, Drama, Sport",
         "8.2",
         null,
         "8.2",
         "8.2"
        ],
        [
         "Action, Adventure",
         "8.18",
         "0.28635642126552735",
         "7.7",
         "8.4"
        ],
        [
         "Adventure, Drama, Sci-Fi",
         "8.166666666666666",
         "0.37859388972001873",
         "7.9",
         "8.6"
        ],
        [
         "Action, Drama, War",
         "8.166666666666666",
         "0.05773502691896237",
         "8.1",
         "8.2"
        ],
        [
         "Crime, Drama",
         "8.157692307692308",
         "0.4482615994466416",
         "7.6",
         "9.2"
        ],
        [
         "Drama, Family, Fantasy",
         "8.15",
         "0.6363961030678927",
         "7.7",
         "8.6"
        ],
        [
         "Adventure, Sci-Fi",
         "8.15",
         "0.21213203435596475",
         "8.0",
         "8.3"
        ],
        [
         "Action, Adventure, Drama",
         "8.15",
         "0.47515179760706966",
         "7.6",
         "8.9"
        ],
        [
         "Drama, Romance, Sci-Fi",
         "8.15",
         "0.21213203435596475",
         "8.0",
         "8.3"
        ],
        [
         "Action, Drama, Sci-Fi",
         "8.149999999999999",
         "0.07071067811865388",
         "8.1",
         "8.2"
        ],
        [
         "Crime, Mystery, Thriller",
         "8.133333333333333",
         "0.4725815626252609",
         "7.6",
         "8.5"
        ],
        [
         "Comedy, Drama, Thriller",
         "8.133333333333333",
         "0.4509249752822891",
         "7.7",
         "8.6"
        ],
        [
         "Drama, Fantasy",
         "8.1",
         null,
         "8.1",
         "8.1"
        ],
        [
         "Adventure, Drama, Musical",
         "8.1",
         null,
         "8.1",
         "8.1"
        ],
        [
         "Drama, Film-Noir",
         "8.1",
         "0.21602468994692842",
         "7.9",
         "8.4"
        ],
        [
         "Adventure, Comedy, Sci-Fi",
         "8.1",
         "0.3605551275463989",
         "7.8",
         "8.5"
        ],
        [
         "Animation, Action, Drama",
         "8.1",
         null,
         "8.1",
         "8.1"
        ],
        [
         "Animation, Adventure, Fantasy",
         "8.1",
         null,
         "8.1",
         "8.1"
        ],
        [
         "Drama, History, Romance",
         "8.1",
         "0.0",
         "8.1",
         "8.1"
        ],
        [
         "Comedy, Crime, Sport",
         "8.1",
         null,
         "8.1",
         "8.1"
        ],
        [
         "Horror, Mystery, Sci-Fi",
         "8.1",
         null,
         "8.1",
         "8.1"
        ],
        [
         "Drama, Thriller, War",
         "8.1",
         "0.3464101615137761",
         "7.7",
         "8.3"
        ],
        [
         "Comedy, Crime, Romance",
         "8.1",
         null,
         "8.1",
         "8.1"
        ],
        [
         "Fantasy, Horror, Mystery",
         "8.1",
         null,
         "8.1",
         "8.1"
        ],
        [
         "Film-Noir, Mystery, Thriller",
         "8.1",
         null,
         "8.1",
         "8.1"
        ],
        [
         "Action, Drama, Mystery",
         "8.08",
         "0.41472882706655506",
         "7.6",
         "8.6"
        ],
        [
         "Drama, War",
         "8.073333333333332",
         "0.27637104114026184",
         "7.6",
         "8.6"
        ],
        [
         "Crime, Drama, Fantasy",
         "8.066666666666666",
         "0.4725815626252604",
         "7.7",
         "8.6"
        ],
        [
         "Comedy, Drama, Musical",
         "8.066666666666666",
         "0.05773502691896237",
         "8.0",
         "8.1"
        ],
        [
         "Comedy, Drama, War",
         "8.059999999999999",
         "0.20736441353327698",
         "7.9",
         "8.4"
        ],
        [
         "Crime, Drama, Film-Noir",
         "8.059999999999999",
         "0.13416407864998736",
         "8.0",
         "8.3"
        ]
       ],
       "shape": {
        "columns": 4,
        "rows": 202
       }
      },
      "text/html": [
       "<div>\n",
       "<style scoped>\n",
       "    .dataframe tbody tr th:only-of-type {\n",
       "        vertical-align: middle;\n",
       "    }\n",
       "\n",
       "    .dataframe tbody tr th {\n",
       "        vertical-align: top;\n",
       "    }\n",
       "\n",
       "    .dataframe thead th {\n",
       "        text-align: right;\n",
       "    }\n",
       "</style>\n",
       "<table border=\"1\" class=\"dataframe\">\n",
       "  <thead>\n",
       "    <tr style=\"text-align: right;\">\n",
       "      <th></th>\n",
       "      <th>mean</th>\n",
       "      <th>std</th>\n",
       "      <th>min</th>\n",
       "      <th>max</th>\n",
       "    </tr>\n",
       "    <tr>\n",
       "      <th>Genre</th>\n",
       "      <th></th>\n",
       "      <th></th>\n",
       "      <th></th>\n",
       "      <th></th>\n",
       "    </tr>\n",
       "  </thead>\n",
       "  <tbody>\n",
       "    <tr>\n",
       "      <th>Animation, Drama, War</th>\n",
       "      <td>8.50</td>\n",
       "      <td>NaN</td>\n",
       "      <td>8.5</td>\n",
       "      <td>8.5</td>\n",
       "    </tr>\n",
       "    <tr>\n",
       "      <th>Drama, Musical</th>\n",
       "      <td>8.40</td>\n",
       "      <td>NaN</td>\n",
       "      <td>8.4</td>\n",
       "      <td>8.4</td>\n",
       "    </tr>\n",
       "    <tr>\n",
       "      <th>Action, Sci-Fi</th>\n",
       "      <td>8.40</td>\n",
       "      <td>0.360555</td>\n",
       "      <td>8.0</td>\n",
       "      <td>8.7</td>\n",
       "    </tr>\n",
       "    <tr>\n",
       "      <th>Drama, Mystery, War</th>\n",
       "      <td>8.35</td>\n",
       "      <td>0.070711</td>\n",
       "      <td>8.3</td>\n",
       "      <td>8.4</td>\n",
       "    </tr>\n",
       "    <tr>\n",
       "      <th>Western</th>\n",
       "      <td>8.35</td>\n",
       "      <td>0.420317</td>\n",
       "      <td>7.8</td>\n",
       "      <td>8.8</td>\n",
       "    </tr>\n",
       "    <tr>\n",
       "      <th>...</th>\n",
       "      <td>...</td>\n",
       "      <td>...</td>\n",
       "      <td>...</td>\n",
       "      <td>...</td>\n",
       "    </tr>\n",
       "    <tr>\n",
       "      <th>Adventure, Comedy, War</th>\n",
       "      <td>7.60</td>\n",
       "      <td>NaN</td>\n",
       "      <td>7.6</td>\n",
       "      <td>7.6</td>\n",
       "    </tr>\n",
       "    <tr>\n",
       "      <th>Animation, Comedy, Crime</th>\n",
       "      <td>7.60</td>\n",
       "      <td>NaN</td>\n",
       "      <td>7.6</td>\n",
       "      <td>7.6</td>\n",
       "    </tr>\n",
       "    <tr>\n",
       "      <th>Action, Adventure, Family</th>\n",
       "      <td>7.60</td>\n",
       "      <td>NaN</td>\n",
       "      <td>7.6</td>\n",
       "      <td>7.6</td>\n",
       "    </tr>\n",
       "    <tr>\n",
       "      <th>Animation, Drama, Romance</th>\n",
       "      <td>7.60</td>\n",
       "      <td>NaN</td>\n",
       "      <td>7.6</td>\n",
       "      <td>7.6</td>\n",
       "    </tr>\n",
       "    <tr>\n",
       "      <th>Action, Adventure, Mystery</th>\n",
       "      <td>7.60</td>\n",
       "      <td>NaN</td>\n",
       "      <td>7.6</td>\n",
       "      <td>7.6</td>\n",
       "    </tr>\n",
       "  </tbody>\n",
       "</table>\n",
       "<p>202 rows × 4 columns</p>\n",
       "</div>"
      ],
      "text/plain": [
       "                            mean       std  min  max\n",
       "Genre                                               \n",
       "Animation, Drama, War       8.50       NaN  8.5  8.5\n",
       "Drama, Musical              8.40       NaN  8.4  8.4\n",
       "Action, Sci-Fi              8.40  0.360555  8.0  8.7\n",
       "Drama, Mystery, War         8.35  0.070711  8.3  8.4\n",
       "Western                     8.35  0.420317  7.8  8.8\n",
       "...                          ...       ...  ...  ...\n",
       "Adventure, Comedy, War      7.60       NaN  7.6  7.6\n",
       "Animation, Comedy, Crime    7.60       NaN  7.6  7.6\n",
       "Action, Adventure, Family   7.60       NaN  7.6  7.6\n",
       "Animation, Drama, Romance   7.60       NaN  7.6  7.6\n",
       "Action, Adventure, Mystery  7.60       NaN  7.6  7.6\n",
       "\n",
       "[202 rows x 4 columns]"
      ]
     },
     "metadata": {},
     "output_type": "display_data"
    }
   ],
   "source": [
    "movies_agg = (\n",
    "    movies.groupby(\"Genre\")[\"IMDB_Rating\"]\n",
    "    .agg(mean=\"mean\", std=\"std\", min=\"min\", max=\"max\")\n",
    "    .sort_values(by=\"mean\", ascending=False)\n",
    ")\n",
    "display(movies_agg)"
   ]
  },
  {
   "attachments": {},
   "cell_type": "markdown",
   "metadata": {},
   "source": [
    "### (b) Merge Data\n",
    "\n",
    "Create a new dataset **\"movies_merge\"** by merging the aggregate information <br> \n",
    "from (a) into \"movies\".\n",
    "\n",
    "Display the resulting dataset **\"movies_merge\"**.\n"
   ]
  },
  {
   "cell_type": "code",
   "execution_count": 18,
   "metadata": {},
   "outputs": [
    {
     "data": {
      "application/vnd.microsoft.datawrangler.viewer.v0+json": {
       "columns": [
        {
         "name": "index",
         "rawType": "int64",
         "type": "integer"
        },
        {
         "name": "Name",
         "rawType": "object",
         "type": "string"
        },
        {
         "name": "Released_Year",
         "rawType": "object",
         "type": "string"
        },
        {
         "name": "Length",
         "rawType": "object",
         "type": "string"
        },
        {
         "name": "Genre",
         "rawType": "object",
         "type": "string"
        },
        {
         "name": "IMDB_Rating",
         "rawType": "float64",
         "type": "float"
        },
        {
         "name": "Overview",
         "rawType": "object",
         "type": "string"
        },
        {
         "name": "Director",
         "rawType": "object",
         "type": "string"
        },
        {
         "name": "Star1",
         "rawType": "object",
         "type": "string"
        },
        {
         "name": "Star2",
         "rawType": "object",
         "type": "string"
        },
        {
         "name": "Gross",
         "rawType": "object",
         "type": "string"
        },
        {
         "name": "mean",
         "rawType": "float64",
         "type": "float"
        },
        {
         "name": "std",
         "rawType": "float64",
         "type": "float"
        },
        {
         "name": "min",
         "rawType": "float64",
         "type": "float"
        },
        {
         "name": "max",
         "rawType": "float64",
         "type": "float"
        }
       ],
       "conversionMethod": "pd.DataFrame",
       "ref": "61a65b05-eb5d-46dc-8e40-3f636f1f45cf",
       "rows": [
        [
         "0",
         "The Shawshank Redemption",
         "1994",
         "142 min",
         "Drama",
         "9.3",
         "Two imprisoned men bond over a number of years, finding solace and eventual redemption through acts of common decency.",
         "Frank Darabont",
         "Tim Robbins",
         "Morgan Freeman",
         "28,341,469",
         "7.975294117647058",
         "0.30546836885305856",
         "7.6",
         "9.3"
        ],
        [
         "1",
         "The Godfather",
         "1972",
         "175 min",
         "Crime, Drama",
         "9.2",
         "An organized crime dynasty's aging patriarch transfers control of his clandestine empire to his reluctant son.",
         "Francis Ford Coppola",
         "Marlon Brando",
         "Al Pacino",
         "134,966,411",
         "8.157692307692308",
         "0.4482615994466416",
         "7.6",
         "9.2"
        ],
        [
         "2",
         "The Dark Knight",
         "2008",
         "152 min",
         "Action, Crime, Drama",
         "9.0",
         "When the menace known as the Joker wreaks havoc and chaos on the people of Gotham, Batman must accept one of the greatest psychological and physical tests of his ability to fight injustice.",
         "Christopher Nolan",
         "Christian Bale",
         "Heath Ledger",
         "534,858,444",
         "7.88",
         "0.3166636418488321",
         "7.6",
         "9.0"
        ],
        [
         "3",
         "The Godfather: Part II",
         "1974",
         "202 min",
         "Crime, Drama",
         "9.0",
         "The early life and career of Vito Corleone in 1920s New York City is portrayed, while his son, Michael, expands and tightens his grip on the family crime syndicate.",
         "Francis Ford Coppola",
         "Al Pacino",
         "Robert De Niro",
         "57,300,000",
         "8.157692307692308",
         "0.4482615994466416",
         "7.6",
         "9.2"
        ],
        [
         "4",
         "12 Angry Men",
         "1957",
         "96 min",
         "Crime, Drama",
         "9.0",
         "A jury holdout attempts to prevent a miscarriage of justice by forcing his colleagues to reconsider the evidence.",
         "Sidney Lumet",
         "Henry Fonda",
         "Lee J. Cobb",
         "4,360,000",
         "8.157692307692308",
         "0.4482615994466416",
         "7.6",
         "9.2"
        ]
       ],
       "shape": {
        "columns": 14,
        "rows": 5
       }
      },
      "text/html": [
       "<div>\n",
       "<style scoped>\n",
       "    .dataframe tbody tr th:only-of-type {\n",
       "        vertical-align: middle;\n",
       "    }\n",
       "\n",
       "    .dataframe tbody tr th {\n",
       "        vertical-align: top;\n",
       "    }\n",
       "\n",
       "    .dataframe thead th {\n",
       "        text-align: right;\n",
       "    }\n",
       "</style>\n",
       "<table border=\"1\" class=\"dataframe\">\n",
       "  <thead>\n",
       "    <tr style=\"text-align: right;\">\n",
       "      <th></th>\n",
       "      <th>Name</th>\n",
       "      <th>Released_Year</th>\n",
       "      <th>Length</th>\n",
       "      <th>Genre</th>\n",
       "      <th>IMDB_Rating</th>\n",
       "      <th>Overview</th>\n",
       "      <th>Director</th>\n",
       "      <th>Star1</th>\n",
       "      <th>Star2</th>\n",
       "      <th>Gross</th>\n",
       "      <th>mean</th>\n",
       "      <th>std</th>\n",
       "      <th>min</th>\n",
       "      <th>max</th>\n",
       "    </tr>\n",
       "  </thead>\n",
       "  <tbody>\n",
       "    <tr>\n",
       "      <th>0</th>\n",
       "      <td>The Shawshank Redemption</td>\n",
       "      <td>1994</td>\n",
       "      <td>142 min</td>\n",
       "      <td>Drama</td>\n",
       "      <td>9.3</td>\n",
       "      <td>Two imprisoned men bond over a number of years...</td>\n",
       "      <td>Frank Darabont</td>\n",
       "      <td>Tim Robbins</td>\n",
       "      <td>Morgan Freeman</td>\n",
       "      <td>28,341,469</td>\n",
       "      <td>7.975294</td>\n",
       "      <td>0.305468</td>\n",
       "      <td>7.6</td>\n",
       "      <td>9.3</td>\n",
       "    </tr>\n",
       "    <tr>\n",
       "      <th>1</th>\n",
       "      <td>The Godfather</td>\n",
       "      <td>1972</td>\n",
       "      <td>175 min</td>\n",
       "      <td>Crime, Drama</td>\n",
       "      <td>9.2</td>\n",
       "      <td>An organized crime dynasty's aging patriarch t...</td>\n",
       "      <td>Francis Ford Coppola</td>\n",
       "      <td>Marlon Brando</td>\n",
       "      <td>Al Pacino</td>\n",
       "      <td>134,966,411</td>\n",
       "      <td>8.157692</td>\n",
       "      <td>0.448262</td>\n",
       "      <td>7.6</td>\n",
       "      <td>9.2</td>\n",
       "    </tr>\n",
       "    <tr>\n",
       "      <th>2</th>\n",
       "      <td>The Dark Knight</td>\n",
       "      <td>2008</td>\n",
       "      <td>152 min</td>\n",
       "      <td>Action, Crime, Drama</td>\n",
       "      <td>9.0</td>\n",
       "      <td>When the menace known as the Joker wreaks havo...</td>\n",
       "      <td>Christopher Nolan</td>\n",
       "      <td>Christian Bale</td>\n",
       "      <td>Heath Ledger</td>\n",
       "      <td>534,858,444</td>\n",
       "      <td>7.880000</td>\n",
       "      <td>0.316664</td>\n",
       "      <td>7.6</td>\n",
       "      <td>9.0</td>\n",
       "    </tr>\n",
       "    <tr>\n",
       "      <th>3</th>\n",
       "      <td>The Godfather: Part II</td>\n",
       "      <td>1974</td>\n",
       "      <td>202 min</td>\n",
       "      <td>Crime, Drama</td>\n",
       "      <td>9.0</td>\n",
       "      <td>The early life and career of Vito Corleone in ...</td>\n",
       "      <td>Francis Ford Coppola</td>\n",
       "      <td>Al Pacino</td>\n",
       "      <td>Robert De Niro</td>\n",
       "      <td>57,300,000</td>\n",
       "      <td>8.157692</td>\n",
       "      <td>0.448262</td>\n",
       "      <td>7.6</td>\n",
       "      <td>9.2</td>\n",
       "    </tr>\n",
       "    <tr>\n",
       "      <th>4</th>\n",
       "      <td>12 Angry Men</td>\n",
       "      <td>1957</td>\n",
       "      <td>96 min</td>\n",
       "      <td>Crime, Drama</td>\n",
       "      <td>9.0</td>\n",
       "      <td>A jury holdout attempts to prevent a miscarria...</td>\n",
       "      <td>Sidney Lumet</td>\n",
       "      <td>Henry Fonda</td>\n",
       "      <td>Lee J. Cobb</td>\n",
       "      <td>4,360,000</td>\n",
       "      <td>8.157692</td>\n",
       "      <td>0.448262</td>\n",
       "      <td>7.6</td>\n",
       "      <td>9.2</td>\n",
       "    </tr>\n",
       "  </tbody>\n",
       "</table>\n",
       "</div>"
      ],
      "text/plain": [
       "                       Name Released_Year   Length                 Genre  \\\n",
       "0  The Shawshank Redemption          1994  142 min                 Drama   \n",
       "1             The Godfather          1972  175 min          Crime, Drama   \n",
       "2           The Dark Knight          2008  152 min  Action, Crime, Drama   \n",
       "3    The Godfather: Part II          1974  202 min          Crime, Drama   \n",
       "4              12 Angry Men          1957   96 min          Crime, Drama   \n",
       "\n",
       "   IMDB_Rating                                           Overview  \\\n",
       "0          9.3  Two imprisoned men bond over a number of years...   \n",
       "1          9.2  An organized crime dynasty's aging patriarch t...   \n",
       "2          9.0  When the menace known as the Joker wreaks havo...   \n",
       "3          9.0  The early life and career of Vito Corleone in ...   \n",
       "4          9.0  A jury holdout attempts to prevent a miscarria...   \n",
       "\n",
       "               Director           Star1           Star2        Gross  \\\n",
       "0        Frank Darabont     Tim Robbins  Morgan Freeman   28,341,469   \n",
       "1  Francis Ford Coppola   Marlon Brando       Al Pacino  134,966,411   \n",
       "2     Christopher Nolan  Christian Bale    Heath Ledger  534,858,444   \n",
       "3  Francis Ford Coppola       Al Pacino  Robert De Niro   57,300,000   \n",
       "4          Sidney Lumet     Henry Fonda     Lee J. Cobb    4,360,000   \n",
       "\n",
       "       mean       std  min  max  \n",
       "0  7.975294  0.305468  7.6  9.3  \n",
       "1  8.157692  0.448262  7.6  9.2  \n",
       "2  7.880000  0.316664  7.6  9.0  \n",
       "3  8.157692  0.448262  7.6  9.2  \n",
       "4  8.157692  0.448262  7.6  9.2  "
      ]
     },
     "metadata": {},
     "output_type": "display_data"
    }
   ],
   "source": [
    "# Write your own code\n",
    "movies_merge = pd.merge(movies, movies_agg, on=\"Genre\", how=\"left\", suffixes=(\"\", \"_agg\"))\n",
    "display(movies_merge.head())\n"
   ]
  },
  {
   "attachments": {},
   "cell_type": "markdown",
   "metadata": {},
   "source": [
    "### (c) Rename Columns + Dictionaries\n",
    "\n",
    "Create a new dataset **\"movies_rename\"** by renaming the following columns in <br>the \"movies\" dataset using a dictionary:\n",
    "\n",
    "- \"Name\" --> **\"Movie_Title\"**\n",
    "- \"Length\" --> **\"Runtime\"**\n",
    "- \"Gross\" --> **\"Revenue\"**\n",
    "\n",
    "Verify that this renaming worked by printing the lists of the old (\"movies\") and new <br>(\"movies_rename\") column names."
   ]
  },
  {
   "cell_type": "code",
   "execution_count": 24,
   "metadata": {},
   "outputs": [
    {
     "data": {
      "text/plain": [
       "['Name',\n",
       " 'Released_Year',\n",
       " 'Length',\n",
       " 'Genre',\n",
       " 'IMDB_Rating',\n",
       " 'Overview',\n",
       " 'Director',\n",
       " 'Star1',\n",
       " 'Star2',\n",
       " 'Gross']"
      ]
     },
     "metadata": {},
     "output_type": "display_data"
    },
    {
     "data": {
      "text/plain": [
       "['Movie_Title',\n",
       " 'Released_Year',\n",
       " 'Runtime',\n",
       " 'Genre',\n",
       " 'IMDB_Rating',\n",
       " 'Overview',\n",
       " 'Director',\n",
       " 'Star1',\n",
       " 'Star2',\n",
       " 'Revenue']"
      ]
     },
     "metadata": {},
     "output_type": "display_data"
    }
   ],
   "source": [
    "# Write your own code\n",
    "movies_rename = movies.rename(columns={\"Name\": \"Movie_Title\", \"Length\": \"Runtime\", \"Gross\": \"Revenue\"})\n",
    "display(movies.columns.tolist())\n",
    "display(movies_rename.columns.tolist())\n"
   ]
  },
  {
   "attachments": {},
   "cell_type": "markdown",
   "metadata": {},
   "source": [
    "### (d) Split Data\n",
    "\n",
    "Use \".query()\" to split the \"movies_rename\" dataset from (c) into different parts:\n",
    "\n",
    "- Those directed by **Steven Spielberg**, saved to a dataset titled **\"movies_spielberg\"**\n",
    "- Those directed by **Christopher Nolan**, saved to a dataset titled **\"movies_nolan\"**\n"
   ]
  },
  {
   "cell_type": "code",
   "execution_count": 23,
   "metadata": {},
   "outputs": [
    {
     "data": {
      "application/vnd.microsoft.datawrangler.viewer.v0+json": {
       "columns": [
        {
         "name": "index",
         "rawType": "int64",
         "type": "integer"
        },
        {
         "name": "Movie_Title",
         "rawType": "object",
         "type": "string"
        },
        {
         "name": "Released_Year",
         "rawType": "object",
         "type": "string"
        },
        {
         "name": "Runtime",
         "rawType": "object",
         "type": "string"
        },
        {
         "name": "Genre",
         "rawType": "object",
         "type": "string"
        },
        {
         "name": "IMDB_Rating",
         "rawType": "float64",
         "type": "float"
        },
        {
         "name": "Overview",
         "rawType": "object",
         "type": "string"
        },
        {
         "name": "Director",
         "rawType": "object",
         "type": "string"
        },
        {
         "name": "Star1",
         "rawType": "object",
         "type": "string"
        },
        {
         "name": "Star2",
         "rawType": "object",
         "type": "string"
        },
        {
         "name": "Revenue",
         "rawType": "object",
         "type": "string"
        }
       ],
       "conversionMethod": "pd.DataFrame",
       "ref": "f0158982-53fd-44c9-9bc3-166a28348813",
       "rows": [
        [
         "7",
         "Schindler's List",
         "1993",
         "195 min",
         "Biography, Drama, History",
         "8.9",
         "In German-occupied Poland during World War II, industrialist Oskar Schindler gradually becomes concerned for his Jewish workforce after witnessing their persecution by the Nazis.",
         "Steven Spielberg",
         "Liam Neeson",
         "Ralph Fiennes",
         "96,898,818"
        ],
        [
         "24",
         "Saving Private Ryan",
         "1998",
         "169 min",
         "Drama, War",
         "8.6",
         "Following the Normandy Landings, a group of U.S. soldiers go behind enemy lines to retrieve a paratrooper whose brothers have been killed in action.",
         "Steven Spielberg",
         "Tom Hanks",
         "Matt Damon",
         "216,540,909"
        ],
        [
         "72",
         "Raiders of the Lost Ark",
         "1981",
         "115 min",
         "Action, Adventure",
         "8.4",
         "In 1936, archaeologist and adventurer Indiana Jones is hired by the U.S. government to find the Ark of the Covenant before Adolf Hitler's Nazis can obtain its awesome powers.",
         "Steven Spielberg",
         "Harrison Ford",
         "Karen Allen",
         "248,159,971"
        ],
        [
         "168",
         "Indiana Jones and the Last Crusade",
         "1989",
         "127 min",
         "Action, Adventure",
         "8.2",
         "In 1938, after his father Professor Henry Jones, Sr. goes missing while pursuing the Holy Grail, Professor Henry \"Indiana\" Jones, Jr. finds himself up against Adolf Hitler's Nazis again to stop them from obtaining its powers.",
         "Steven Spielberg",
         "Harrison Ford",
         "Sean Connery",
         "197,171,806"
        ],
        [
         "243",
         "Catch Me If You Can",
         "2002",
         "141 min",
         "Biography, Crime, Drama",
         "8.1",
         "Barely 21 yet, Frank is a skilled forger who has passed as a doctor, lawyer and pilot. FBI agent Carl becomes obsessed with tracking down the con man, who only revels in the pursuit.",
         "Steven Spielberg",
         "Leonardo DiCaprio",
         "Tom Hanks",
         "164,615,351"
        ],
        [
         "262",
         "Jurassic Park",
         "1993",
         "127 min",
         "Action, Adventure, Sci-Fi",
         "8.1",
         "A pragmatic paleontologist visiting an almost complete theme park is tasked with protecting a couple of kids after a power failure causes the park's cloned dinosaurs to run loose.",
         "Steven Spielberg",
         "Sam Neill",
         "Laura Dern",
         "402,453,882"
        ],
        [
         "415",
         "Jaws",
         "1975",
         "124 min",
         "Adventure, Thriller",
         "8.0",
         "When a killer shark unleashes chaos on a beach community, it's up to a local sheriff, a marine biologist, and an old seafarer to hunt the beast down.",
         "Steven Spielberg",
         "Roy Scheider",
         "Robert Shaw",
         "260,000,000"
        ],
        [
         "682",
         "The Color Purple",
         "1985",
         "154 min",
         "Drama",
         "7.8",
         "A black Southern woman struggles to find her identity after suffering abuse from her father and others over four decades.",
         "Steven Spielberg",
         "Danny Glover",
         "Whoopi Goldberg",
         "98,467,863"
        ],
        [
         "688",
         "E.T. the Extra-Terrestrial",
         "1982",
         "115 min",
         "Family, Sci-Fi",
         "7.8",
         "A troubled child summons the courage to help a friendly alien escape Earth and return to his home world.",
         "Steven Spielberg",
         "Henry Thomas",
         "Drew Barrymore",
         "435,110,554"
        ],
        [
         "832",
         "Empire of the Sun",
         "1987",
         "153 min",
         "Action, Drama, History",
         "7.7",
         "A young English boy struggles to survive under Japanese occupation during World War II.",
         "Steven Spielberg",
         "Christian Bale",
         "John Malkovich",
         "22,238,696"
        ],
        [
         "890",
         "Bridge of Spies",
         "2015",
         "142 min",
         "Drama, History, Thriller",
         "7.6",
         "During the Cold War, an American lawyer is recruited to defend an arrested Soviet spy in court, and then help the CIA facilitate an exchange of the spy for the Soviet captured American U2 spy plane pilot, Francis Gary Powers.",
         "Steven Spielberg",
         "Tom Hanks",
         "Mark Rylance",
         "72,313,754"
        ],
        [
         "951",
         "Minority Report",
         "2002",
         "145 min",
         "Action, Crime, Mystery",
         "7.6",
         "In a future where a special police unit is able to arrest murderers before they commit their crimes, an officer from that unit is himself accused of a future murder.",
         "Steven Spielberg",
         "Tom Cruise",
         "Colin Farrell",
         "132,072,926"
        ],
        [
         "988",
         "Close Encounters of the Third Kind",
         "1977",
         "138 min",
         "Drama, Sci-Fi",
         "7.6",
         "Roy Neary, an electric lineman, watches how his quiet and ordinary daily life turns upside down after a close encounter with a UFO.",
         "Steven Spielberg",
         "Richard Dreyfuss",
         "François Truffaut",
         "132,088,635"
        ]
       ],
       "shape": {
        "columns": 10,
        "rows": 13
       }
      },
      "text/html": [
       "<div>\n",
       "<style scoped>\n",
       "    .dataframe tbody tr th:only-of-type {\n",
       "        vertical-align: middle;\n",
       "    }\n",
       "\n",
       "    .dataframe tbody tr th {\n",
       "        vertical-align: top;\n",
       "    }\n",
       "\n",
       "    .dataframe thead th {\n",
       "        text-align: right;\n",
       "    }\n",
       "</style>\n",
       "<table border=\"1\" class=\"dataframe\">\n",
       "  <thead>\n",
       "    <tr style=\"text-align: right;\">\n",
       "      <th></th>\n",
       "      <th>Movie_Title</th>\n",
       "      <th>Released_Year</th>\n",
       "      <th>Runtime</th>\n",
       "      <th>Genre</th>\n",
       "      <th>IMDB_Rating</th>\n",
       "      <th>Overview</th>\n",
       "      <th>Director</th>\n",
       "      <th>Star1</th>\n",
       "      <th>Star2</th>\n",
       "      <th>Revenue</th>\n",
       "    </tr>\n",
       "  </thead>\n",
       "  <tbody>\n",
       "    <tr>\n",
       "      <th>7</th>\n",
       "      <td>Schindler's List</td>\n",
       "      <td>1993</td>\n",
       "      <td>195 min</td>\n",
       "      <td>Biography, Drama, History</td>\n",
       "      <td>8.9</td>\n",
       "      <td>In German-occupied Poland during World War II,...</td>\n",
       "      <td>Steven Spielberg</td>\n",
       "      <td>Liam Neeson</td>\n",
       "      <td>Ralph Fiennes</td>\n",
       "      <td>96,898,818</td>\n",
       "    </tr>\n",
       "    <tr>\n",
       "      <th>24</th>\n",
       "      <td>Saving Private Ryan</td>\n",
       "      <td>1998</td>\n",
       "      <td>169 min</td>\n",
       "      <td>Drama, War</td>\n",
       "      <td>8.6</td>\n",
       "      <td>Following the Normandy Landings, a group of U....</td>\n",
       "      <td>Steven Spielberg</td>\n",
       "      <td>Tom Hanks</td>\n",
       "      <td>Matt Damon</td>\n",
       "      <td>216,540,909</td>\n",
       "    </tr>\n",
       "    <tr>\n",
       "      <th>72</th>\n",
       "      <td>Raiders of the Lost Ark</td>\n",
       "      <td>1981</td>\n",
       "      <td>115 min</td>\n",
       "      <td>Action, Adventure</td>\n",
       "      <td>8.4</td>\n",
       "      <td>In 1936, archaeologist and adventurer Indiana ...</td>\n",
       "      <td>Steven Spielberg</td>\n",
       "      <td>Harrison Ford</td>\n",
       "      <td>Karen Allen</td>\n",
       "      <td>248,159,971</td>\n",
       "    </tr>\n",
       "    <tr>\n",
       "      <th>168</th>\n",
       "      <td>Indiana Jones and the Last Crusade</td>\n",
       "      <td>1989</td>\n",
       "      <td>127 min</td>\n",
       "      <td>Action, Adventure</td>\n",
       "      <td>8.2</td>\n",
       "      <td>In 1938, after his father Professor Henry Jone...</td>\n",
       "      <td>Steven Spielberg</td>\n",
       "      <td>Harrison Ford</td>\n",
       "      <td>Sean Connery</td>\n",
       "      <td>197,171,806</td>\n",
       "    </tr>\n",
       "    <tr>\n",
       "      <th>243</th>\n",
       "      <td>Catch Me If You Can</td>\n",
       "      <td>2002</td>\n",
       "      <td>141 min</td>\n",
       "      <td>Biography, Crime, Drama</td>\n",
       "      <td>8.1</td>\n",
       "      <td>Barely 21 yet, Frank is a skilled forger who h...</td>\n",
       "      <td>Steven Spielberg</td>\n",
       "      <td>Leonardo DiCaprio</td>\n",
       "      <td>Tom Hanks</td>\n",
       "      <td>164,615,351</td>\n",
       "    </tr>\n",
       "    <tr>\n",
       "      <th>262</th>\n",
       "      <td>Jurassic Park</td>\n",
       "      <td>1993</td>\n",
       "      <td>127 min</td>\n",
       "      <td>Action, Adventure, Sci-Fi</td>\n",
       "      <td>8.1</td>\n",
       "      <td>A pragmatic paleontologist visiting an almost ...</td>\n",
       "      <td>Steven Spielberg</td>\n",
       "      <td>Sam Neill</td>\n",
       "      <td>Laura Dern</td>\n",
       "      <td>402,453,882</td>\n",
       "    </tr>\n",
       "    <tr>\n",
       "      <th>415</th>\n",
       "      <td>Jaws</td>\n",
       "      <td>1975</td>\n",
       "      <td>124 min</td>\n",
       "      <td>Adventure, Thriller</td>\n",
       "      <td>8.0</td>\n",
       "      <td>When a killer shark unleashes chaos on a beach...</td>\n",
       "      <td>Steven Spielberg</td>\n",
       "      <td>Roy Scheider</td>\n",
       "      <td>Robert Shaw</td>\n",
       "      <td>260,000,000</td>\n",
       "    </tr>\n",
       "    <tr>\n",
       "      <th>682</th>\n",
       "      <td>The Color Purple</td>\n",
       "      <td>1985</td>\n",
       "      <td>154 min</td>\n",
       "      <td>Drama</td>\n",
       "      <td>7.8</td>\n",
       "      <td>A black Southern woman struggles to find her i...</td>\n",
       "      <td>Steven Spielberg</td>\n",
       "      <td>Danny Glover</td>\n",
       "      <td>Whoopi Goldberg</td>\n",
       "      <td>98,467,863</td>\n",
       "    </tr>\n",
       "    <tr>\n",
       "      <th>688</th>\n",
       "      <td>E.T. the Extra-Terrestrial</td>\n",
       "      <td>1982</td>\n",
       "      <td>115 min</td>\n",
       "      <td>Family, Sci-Fi</td>\n",
       "      <td>7.8</td>\n",
       "      <td>A troubled child summons the courage to help a...</td>\n",
       "      <td>Steven Spielberg</td>\n",
       "      <td>Henry Thomas</td>\n",
       "      <td>Drew Barrymore</td>\n",
       "      <td>435,110,554</td>\n",
       "    </tr>\n",
       "    <tr>\n",
       "      <th>832</th>\n",
       "      <td>Empire of the Sun</td>\n",
       "      <td>1987</td>\n",
       "      <td>153 min</td>\n",
       "      <td>Action, Drama, History</td>\n",
       "      <td>7.7</td>\n",
       "      <td>A young English boy struggles to survive under...</td>\n",
       "      <td>Steven Spielberg</td>\n",
       "      <td>Christian Bale</td>\n",
       "      <td>John Malkovich</td>\n",
       "      <td>22,238,696</td>\n",
       "    </tr>\n",
       "    <tr>\n",
       "      <th>890</th>\n",
       "      <td>Bridge of Spies</td>\n",
       "      <td>2015</td>\n",
       "      <td>142 min</td>\n",
       "      <td>Drama, History, Thriller</td>\n",
       "      <td>7.6</td>\n",
       "      <td>During the Cold War, an American lawyer is rec...</td>\n",
       "      <td>Steven Spielberg</td>\n",
       "      <td>Tom Hanks</td>\n",
       "      <td>Mark Rylance</td>\n",
       "      <td>72,313,754</td>\n",
       "    </tr>\n",
       "    <tr>\n",
       "      <th>951</th>\n",
       "      <td>Minority Report</td>\n",
       "      <td>2002</td>\n",
       "      <td>145 min</td>\n",
       "      <td>Action, Crime, Mystery</td>\n",
       "      <td>7.6</td>\n",
       "      <td>In a future where a special police unit is abl...</td>\n",
       "      <td>Steven Spielberg</td>\n",
       "      <td>Tom Cruise</td>\n",
       "      <td>Colin Farrell</td>\n",
       "      <td>132,072,926</td>\n",
       "    </tr>\n",
       "    <tr>\n",
       "      <th>988</th>\n",
       "      <td>Close Encounters of the Third Kind</td>\n",
       "      <td>1977</td>\n",
       "      <td>138 min</td>\n",
       "      <td>Drama, Sci-Fi</td>\n",
       "      <td>7.6</td>\n",
       "      <td>Roy Neary, an electric lineman, watches how hi...</td>\n",
       "      <td>Steven Spielberg</td>\n",
       "      <td>Richard Dreyfuss</td>\n",
       "      <td>François Truffaut</td>\n",
       "      <td>132,088,635</td>\n",
       "    </tr>\n",
       "  </tbody>\n",
       "</table>\n",
       "</div>"
      ],
      "text/plain": [
       "                            Movie_Title Released_Year  Runtime  \\\n",
       "7                      Schindler's List          1993  195 min   \n",
       "24                  Saving Private Ryan          1998  169 min   \n",
       "72              Raiders of the Lost Ark          1981  115 min   \n",
       "168  Indiana Jones and the Last Crusade          1989  127 min   \n",
       "243                 Catch Me If You Can          2002  141 min   \n",
       "262                       Jurassic Park          1993  127 min   \n",
       "415                                Jaws          1975  124 min   \n",
       "682                    The Color Purple          1985  154 min   \n",
       "688          E.T. the Extra-Terrestrial          1982  115 min   \n",
       "832                   Empire of the Sun          1987  153 min   \n",
       "890                     Bridge of Spies          2015  142 min   \n",
       "951                     Minority Report          2002  145 min   \n",
       "988  Close Encounters of the Third Kind          1977  138 min   \n",
       "\n",
       "                         Genre  IMDB_Rating  \\\n",
       "7    Biography, Drama, History          8.9   \n",
       "24                  Drama, War          8.6   \n",
       "72           Action, Adventure          8.4   \n",
       "168          Action, Adventure          8.2   \n",
       "243    Biography, Crime, Drama          8.1   \n",
       "262  Action, Adventure, Sci-Fi          8.1   \n",
       "415        Adventure, Thriller          8.0   \n",
       "682                      Drama          7.8   \n",
       "688             Family, Sci-Fi          7.8   \n",
       "832     Action, Drama, History          7.7   \n",
       "890   Drama, History, Thriller          7.6   \n",
       "951     Action, Crime, Mystery          7.6   \n",
       "988              Drama, Sci-Fi          7.6   \n",
       "\n",
       "                                              Overview          Director  \\\n",
       "7    In German-occupied Poland during World War II,...  Steven Spielberg   \n",
       "24   Following the Normandy Landings, a group of U....  Steven Spielberg   \n",
       "72   In 1936, archaeologist and adventurer Indiana ...  Steven Spielberg   \n",
       "168  In 1938, after his father Professor Henry Jone...  Steven Spielberg   \n",
       "243  Barely 21 yet, Frank is a skilled forger who h...  Steven Spielberg   \n",
       "262  A pragmatic paleontologist visiting an almost ...  Steven Spielberg   \n",
       "415  When a killer shark unleashes chaos on a beach...  Steven Spielberg   \n",
       "682  A black Southern woman struggles to find her i...  Steven Spielberg   \n",
       "688  A troubled child summons the courage to help a...  Steven Spielberg   \n",
       "832  A young English boy struggles to survive under...  Steven Spielberg   \n",
       "890  During the Cold War, an American lawyer is rec...  Steven Spielberg   \n",
       "951  In a future where a special police unit is abl...  Steven Spielberg   \n",
       "988  Roy Neary, an electric lineman, watches how hi...  Steven Spielberg   \n",
       "\n",
       "                 Star1              Star2      Revenue  \n",
       "7          Liam Neeson      Ralph Fiennes   96,898,818  \n",
       "24           Tom Hanks         Matt Damon  216,540,909  \n",
       "72       Harrison Ford        Karen Allen  248,159,971  \n",
       "168      Harrison Ford       Sean Connery  197,171,806  \n",
       "243  Leonardo DiCaprio          Tom Hanks  164,615,351  \n",
       "262          Sam Neill         Laura Dern  402,453,882  \n",
       "415       Roy Scheider        Robert Shaw  260,000,000  \n",
       "682       Danny Glover    Whoopi Goldberg   98,467,863  \n",
       "688       Henry Thomas     Drew Barrymore  435,110,554  \n",
       "832     Christian Bale     John Malkovich   22,238,696  \n",
       "890          Tom Hanks       Mark Rylance   72,313,754  \n",
       "951         Tom Cruise      Colin Farrell  132,072,926  \n",
       "988   Richard Dreyfuss  François Truffaut  132,088,635  "
      ]
     },
     "metadata": {},
     "output_type": "display_data"
    },
    {
     "data": {
      "application/vnd.microsoft.datawrangler.viewer.v0+json": {
       "columns": [
        {
         "name": "index",
         "rawType": "int64",
         "type": "integer"
        },
        {
         "name": "Movie_Title",
         "rawType": "object",
         "type": "string"
        },
        {
         "name": "Released_Year",
         "rawType": "object",
         "type": "string"
        },
        {
         "name": "Runtime",
         "rawType": "object",
         "type": "string"
        },
        {
         "name": "Genre",
         "rawType": "object",
         "type": "string"
        },
        {
         "name": "IMDB_Rating",
         "rawType": "float64",
         "type": "float"
        },
        {
         "name": "Overview",
         "rawType": "object",
         "type": "string"
        },
        {
         "name": "Director",
         "rawType": "object",
         "type": "string"
        },
        {
         "name": "Star1",
         "rawType": "object",
         "type": "string"
        },
        {
         "name": "Star2",
         "rawType": "object",
         "type": "string"
        },
        {
         "name": "Revenue",
         "rawType": "object",
         "type": "string"
        }
       ],
       "conversionMethod": "pd.DataFrame",
       "ref": "292ac38a-9e08-4b52-bb0b-d53951027c2f",
       "rows": [
        [
         "2",
         "The Dark Knight",
         "2008",
         "152 min",
         "Action, Crime, Drama",
         "9.0",
         "When the menace known as the Joker wreaks havoc and chaos on the people of Gotham, Batman must accept one of the greatest psychological and physical tests of his ability to fight injustice.",
         "Christopher Nolan",
         "Christian Bale",
         "Heath Ledger",
         "534,858,444"
        ],
        [
         "8",
         "Inception",
         "2010",
         "148 min",
         "Action, Adventure, Sci-Fi",
         "8.8",
         "A thief who steals corporate secrets through the use of dream-sharing technology is given the inverse task of planting an idea into the mind of a C.E.O.",
         "Christopher Nolan",
         "Leonardo DiCaprio",
         "Joseph Gordon-Levitt",
         "292,576,195"
        ],
        [
         "21",
         "Interstellar",
         "2014",
         "169 min",
         "Adventure, Drama, Sci-Fi",
         "8.6",
         "A team of explorers travel through a wormhole in space in an attempt to ensure humanity's survival.",
         "Christopher Nolan",
         "Matthew McConaughey",
         "Anne Hathaway",
         "188,020,017"
        ],
        [
         "36",
         "The Prestige",
         "2006",
         "130 min",
         "Drama, Mystery, Sci-Fi",
         "8.5",
         "After a tragic accident, two stage magicians engage in a battle to create the ultimate illusion while sacrificing everything they have to outwit each other.",
         "Christopher Nolan",
         "Christian Bale",
         "Hugh Jackman",
         "53,089,891"
        ],
        [
         "63",
         "The Dark Knight Rises",
         "2012",
         "164 min",
         "Action, Adventure",
         "8.4",
         "Eight years after the Joker's reign of anarchy, Batman, with the help of the enigmatic Catwoman, is forced from his exile to save Gotham City from the brutal guerrilla terrorist Bane.",
         "Christopher Nolan",
         "Christian Bale",
         "Tom Hardy",
         "448,139,099"
        ],
        [
         "69",
         "Memento",
         "2000",
         "113 min",
         "Mystery, Thriller",
         "8.4",
         "A man with short-term memory loss attempts to track down his wife's murderer.",
         "Christopher Nolan",
         "Guy Pearce",
         "Carrie-Anne Moss",
         "25,544,867"
        ],
        [
         "155",
         "Batman Begins",
         "2005",
         "140 min",
         "Action, Adventure",
         "8.2",
         "After training with his mentor, Batman begins his fight to free crime-ridden Gotham City from corruption.",
         "Christopher Nolan",
         "Christian Bale",
         "Michael Caine",
         "206,852,432"
        ],
        [
         "573",
         "Dunkirk",
         "2017",
         "106 min",
         "Action, Drama, History",
         "7.8",
         "Allied soldiers from Belgium, the British Empire, and France are surrounded by the German Army and evacuated during a fierce battle in World War II.",
         "Christopher Nolan",
         "Fionn Whitehead",
         "Barry Keoghan",
         "188,373,161"
        ]
       ],
       "shape": {
        "columns": 10,
        "rows": 8
       }
      },
      "text/html": [
       "<div>\n",
       "<style scoped>\n",
       "    .dataframe tbody tr th:only-of-type {\n",
       "        vertical-align: middle;\n",
       "    }\n",
       "\n",
       "    .dataframe tbody tr th {\n",
       "        vertical-align: top;\n",
       "    }\n",
       "\n",
       "    .dataframe thead th {\n",
       "        text-align: right;\n",
       "    }\n",
       "</style>\n",
       "<table border=\"1\" class=\"dataframe\">\n",
       "  <thead>\n",
       "    <tr style=\"text-align: right;\">\n",
       "      <th></th>\n",
       "      <th>Movie_Title</th>\n",
       "      <th>Released_Year</th>\n",
       "      <th>Runtime</th>\n",
       "      <th>Genre</th>\n",
       "      <th>IMDB_Rating</th>\n",
       "      <th>Overview</th>\n",
       "      <th>Director</th>\n",
       "      <th>Star1</th>\n",
       "      <th>Star2</th>\n",
       "      <th>Revenue</th>\n",
       "    </tr>\n",
       "  </thead>\n",
       "  <tbody>\n",
       "    <tr>\n",
       "      <th>2</th>\n",
       "      <td>The Dark Knight</td>\n",
       "      <td>2008</td>\n",
       "      <td>152 min</td>\n",
       "      <td>Action, Crime, Drama</td>\n",
       "      <td>9.0</td>\n",
       "      <td>When the menace known as the Joker wreaks havo...</td>\n",
       "      <td>Christopher Nolan</td>\n",
       "      <td>Christian Bale</td>\n",
       "      <td>Heath Ledger</td>\n",
       "      <td>534,858,444</td>\n",
       "    </tr>\n",
       "    <tr>\n",
       "      <th>8</th>\n",
       "      <td>Inception</td>\n",
       "      <td>2010</td>\n",
       "      <td>148 min</td>\n",
       "      <td>Action, Adventure, Sci-Fi</td>\n",
       "      <td>8.8</td>\n",
       "      <td>A thief who steals corporate secrets through t...</td>\n",
       "      <td>Christopher Nolan</td>\n",
       "      <td>Leonardo DiCaprio</td>\n",
       "      <td>Joseph Gordon-Levitt</td>\n",
       "      <td>292,576,195</td>\n",
       "    </tr>\n",
       "    <tr>\n",
       "      <th>21</th>\n",
       "      <td>Interstellar</td>\n",
       "      <td>2014</td>\n",
       "      <td>169 min</td>\n",
       "      <td>Adventure, Drama, Sci-Fi</td>\n",
       "      <td>8.6</td>\n",
       "      <td>A team of explorers travel through a wormhole ...</td>\n",
       "      <td>Christopher Nolan</td>\n",
       "      <td>Matthew McConaughey</td>\n",
       "      <td>Anne Hathaway</td>\n",
       "      <td>188,020,017</td>\n",
       "    </tr>\n",
       "    <tr>\n",
       "      <th>36</th>\n",
       "      <td>The Prestige</td>\n",
       "      <td>2006</td>\n",
       "      <td>130 min</td>\n",
       "      <td>Drama, Mystery, Sci-Fi</td>\n",
       "      <td>8.5</td>\n",
       "      <td>After a tragic accident, two stage magicians e...</td>\n",
       "      <td>Christopher Nolan</td>\n",
       "      <td>Christian Bale</td>\n",
       "      <td>Hugh Jackman</td>\n",
       "      <td>53,089,891</td>\n",
       "    </tr>\n",
       "    <tr>\n",
       "      <th>63</th>\n",
       "      <td>The Dark Knight Rises</td>\n",
       "      <td>2012</td>\n",
       "      <td>164 min</td>\n",
       "      <td>Action, Adventure</td>\n",
       "      <td>8.4</td>\n",
       "      <td>Eight years after the Joker's reign of anarchy...</td>\n",
       "      <td>Christopher Nolan</td>\n",
       "      <td>Christian Bale</td>\n",
       "      <td>Tom Hardy</td>\n",
       "      <td>448,139,099</td>\n",
       "    </tr>\n",
       "    <tr>\n",
       "      <th>69</th>\n",
       "      <td>Memento</td>\n",
       "      <td>2000</td>\n",
       "      <td>113 min</td>\n",
       "      <td>Mystery, Thriller</td>\n",
       "      <td>8.4</td>\n",
       "      <td>A man with short-term memory loss attempts to ...</td>\n",
       "      <td>Christopher Nolan</td>\n",
       "      <td>Guy Pearce</td>\n",
       "      <td>Carrie-Anne Moss</td>\n",
       "      <td>25,544,867</td>\n",
       "    </tr>\n",
       "    <tr>\n",
       "      <th>155</th>\n",
       "      <td>Batman Begins</td>\n",
       "      <td>2005</td>\n",
       "      <td>140 min</td>\n",
       "      <td>Action, Adventure</td>\n",
       "      <td>8.2</td>\n",
       "      <td>After training with his mentor, Batman begins ...</td>\n",
       "      <td>Christopher Nolan</td>\n",
       "      <td>Christian Bale</td>\n",
       "      <td>Michael Caine</td>\n",
       "      <td>206,852,432</td>\n",
       "    </tr>\n",
       "    <tr>\n",
       "      <th>573</th>\n",
       "      <td>Dunkirk</td>\n",
       "      <td>2017</td>\n",
       "      <td>106 min</td>\n",
       "      <td>Action, Drama, History</td>\n",
       "      <td>7.8</td>\n",
       "      <td>Allied soldiers from Belgium, the British Empi...</td>\n",
       "      <td>Christopher Nolan</td>\n",
       "      <td>Fionn Whitehead</td>\n",
       "      <td>Barry Keoghan</td>\n",
       "      <td>188,373,161</td>\n",
       "    </tr>\n",
       "  </tbody>\n",
       "</table>\n",
       "</div>"
      ],
      "text/plain": [
       "               Movie_Title Released_Year  Runtime                      Genre  \\\n",
       "2          The Dark Knight          2008  152 min       Action, Crime, Drama   \n",
       "8                Inception          2010  148 min  Action, Adventure, Sci-Fi   \n",
       "21            Interstellar          2014  169 min   Adventure, Drama, Sci-Fi   \n",
       "36            The Prestige          2006  130 min     Drama, Mystery, Sci-Fi   \n",
       "63   The Dark Knight Rises          2012  164 min          Action, Adventure   \n",
       "69                 Memento          2000  113 min          Mystery, Thriller   \n",
       "155          Batman Begins          2005  140 min          Action, Adventure   \n",
       "573                Dunkirk          2017  106 min     Action, Drama, History   \n",
       "\n",
       "     IMDB_Rating                                           Overview  \\\n",
       "2            9.0  When the menace known as the Joker wreaks havo...   \n",
       "8            8.8  A thief who steals corporate secrets through t...   \n",
       "21           8.6  A team of explorers travel through a wormhole ...   \n",
       "36           8.5  After a tragic accident, two stage magicians e...   \n",
       "63           8.4  Eight years after the Joker's reign of anarchy...   \n",
       "69           8.4  A man with short-term memory loss attempts to ...   \n",
       "155          8.2  After training with his mentor, Batman begins ...   \n",
       "573          7.8  Allied soldiers from Belgium, the British Empi...   \n",
       "\n",
       "              Director                Star1                 Star2      Revenue  \n",
       "2    Christopher Nolan       Christian Bale          Heath Ledger  534,858,444  \n",
       "8    Christopher Nolan    Leonardo DiCaprio  Joseph Gordon-Levitt  292,576,195  \n",
       "21   Christopher Nolan  Matthew McConaughey         Anne Hathaway  188,020,017  \n",
       "36   Christopher Nolan       Christian Bale          Hugh Jackman   53,089,891  \n",
       "63   Christopher Nolan       Christian Bale             Tom Hardy  448,139,099  \n",
       "69   Christopher Nolan           Guy Pearce      Carrie-Anne Moss   25,544,867  \n",
       "155  Christopher Nolan       Christian Bale         Michael Caine  206,852,432  \n",
       "573  Christopher Nolan      Fionn Whitehead         Barry Keoghan  188,373,161  "
      ]
     },
     "metadata": {},
     "output_type": "display_data"
    }
   ],
   "source": [
    "# Write your own code\n",
    "movies_spielberg = movies_rename.query(\"Director == 'Steven Spielberg'\")\n",
    "movies_nolan = movies_rename.query(\"Director == 'Christopher Nolan'\")\n",
    "\n",
    "display(movies_spielberg)\n",
    "display(movies_nolan)"
   ]
  },
  {
   "attachments": {},
   "cell_type": "markdown",
   "metadata": {},
   "source": [
    "### (e) Concatenate Data\n",
    "\n",
    "Concatenate the datasets you created in (d) to a new dataset titled **\"movies_concat\"**.\n",
    "\n",
    "Display the resulting dataset **\"movies_concat\"**."
   ]
  },
  {
   "cell_type": "code",
   "execution_count": 21,
   "metadata": {},
   "outputs": [
    {
     "data": {
      "application/vnd.microsoft.datawrangler.viewer.v0+json": {
       "columns": [
        {
         "name": "index",
         "rawType": "int64",
         "type": "integer"
        },
        {
         "name": "Movie_Title",
         "rawType": "object",
         "type": "string"
        },
        {
         "name": "Released_Year",
         "rawType": "object",
         "type": "string"
        },
        {
         "name": "Runtime",
         "rawType": "object",
         "type": "string"
        },
        {
         "name": "Genre",
         "rawType": "object",
         "type": "string"
        },
        {
         "name": "IMDB_Rating",
         "rawType": "float64",
         "type": "float"
        },
        {
         "name": "Overview",
         "rawType": "object",
         "type": "string"
        },
        {
         "name": "Director",
         "rawType": "object",
         "type": "string"
        },
        {
         "name": "Star1",
         "rawType": "object",
         "type": "string"
        },
        {
         "name": "Star2",
         "rawType": "object",
         "type": "string"
        },
        {
         "name": "Revenue",
         "rawType": "object",
         "type": "string"
        }
       ],
       "conversionMethod": "pd.DataFrame",
       "ref": "9aa24b1b-af46-4e35-a54e-b393d5d3e3ab",
       "rows": [
        [
         "7",
         "Schindler's List",
         "1993",
         "195 min",
         "Biography, Drama, History",
         "8.9",
         "In German-occupied Poland during World War II, industrialist Oskar Schindler gradually becomes concerned for his Jewish workforce after witnessing their persecution by the Nazis.",
         "Steven Spielberg",
         "Liam Neeson",
         "Ralph Fiennes",
         "96,898,818"
        ],
        [
         "24",
         "Saving Private Ryan",
         "1998",
         "169 min",
         "Drama, War",
         "8.6",
         "Following the Normandy Landings, a group of U.S. soldiers go behind enemy lines to retrieve a paratrooper whose brothers have been killed in action.",
         "Steven Spielberg",
         "Tom Hanks",
         "Matt Damon",
         "216,540,909"
        ],
        [
         "72",
         "Raiders of the Lost Ark",
         "1981",
         "115 min",
         "Action, Adventure",
         "8.4",
         "In 1936, archaeologist and adventurer Indiana Jones is hired by the U.S. government to find the Ark of the Covenant before Adolf Hitler's Nazis can obtain its awesome powers.",
         "Steven Spielberg",
         "Harrison Ford",
         "Karen Allen",
         "248,159,971"
        ],
        [
         "168",
         "Indiana Jones and the Last Crusade",
         "1989",
         "127 min",
         "Action, Adventure",
         "8.2",
         "In 1938, after his father Professor Henry Jones, Sr. goes missing while pursuing the Holy Grail, Professor Henry \"Indiana\" Jones, Jr. finds himself up against Adolf Hitler's Nazis again to stop them from obtaining its powers.",
         "Steven Spielberg",
         "Harrison Ford",
         "Sean Connery",
         "197,171,806"
        ],
        [
         "243",
         "Catch Me If You Can",
         "2002",
         "141 min",
         "Biography, Crime, Drama",
         "8.1",
         "Barely 21 yet, Frank is a skilled forger who has passed as a doctor, lawyer and pilot. FBI agent Carl becomes obsessed with tracking down the con man, who only revels in the pursuit.",
         "Steven Spielberg",
         "Leonardo DiCaprio",
         "Tom Hanks",
         "164,615,351"
        ]
       ],
       "shape": {
        "columns": 10,
        "rows": 5
       }
      },
      "text/html": [
       "<div>\n",
       "<style scoped>\n",
       "    .dataframe tbody tr th:only-of-type {\n",
       "        vertical-align: middle;\n",
       "    }\n",
       "\n",
       "    .dataframe tbody tr th {\n",
       "        vertical-align: top;\n",
       "    }\n",
       "\n",
       "    .dataframe thead th {\n",
       "        text-align: right;\n",
       "    }\n",
       "</style>\n",
       "<table border=\"1\" class=\"dataframe\">\n",
       "  <thead>\n",
       "    <tr style=\"text-align: right;\">\n",
       "      <th></th>\n",
       "      <th>Movie_Title</th>\n",
       "      <th>Released_Year</th>\n",
       "      <th>Runtime</th>\n",
       "      <th>Genre</th>\n",
       "      <th>IMDB_Rating</th>\n",
       "      <th>Overview</th>\n",
       "      <th>Director</th>\n",
       "      <th>Star1</th>\n",
       "      <th>Star2</th>\n",
       "      <th>Revenue</th>\n",
       "    </tr>\n",
       "  </thead>\n",
       "  <tbody>\n",
       "    <tr>\n",
       "      <th>7</th>\n",
       "      <td>Schindler's List</td>\n",
       "      <td>1993</td>\n",
       "      <td>195 min</td>\n",
       "      <td>Biography, Drama, History</td>\n",
       "      <td>8.9</td>\n",
       "      <td>In German-occupied Poland during World War II,...</td>\n",
       "      <td>Steven Spielberg</td>\n",
       "      <td>Liam Neeson</td>\n",
       "      <td>Ralph Fiennes</td>\n",
       "      <td>96,898,818</td>\n",
       "    </tr>\n",
       "    <tr>\n",
       "      <th>24</th>\n",
       "      <td>Saving Private Ryan</td>\n",
       "      <td>1998</td>\n",
       "      <td>169 min</td>\n",
       "      <td>Drama, War</td>\n",
       "      <td>8.6</td>\n",
       "      <td>Following the Normandy Landings, a group of U....</td>\n",
       "      <td>Steven Spielberg</td>\n",
       "      <td>Tom Hanks</td>\n",
       "      <td>Matt Damon</td>\n",
       "      <td>216,540,909</td>\n",
       "    </tr>\n",
       "    <tr>\n",
       "      <th>72</th>\n",
       "      <td>Raiders of the Lost Ark</td>\n",
       "      <td>1981</td>\n",
       "      <td>115 min</td>\n",
       "      <td>Action, Adventure</td>\n",
       "      <td>8.4</td>\n",
       "      <td>In 1936, archaeologist and adventurer Indiana ...</td>\n",
       "      <td>Steven Spielberg</td>\n",
       "      <td>Harrison Ford</td>\n",
       "      <td>Karen Allen</td>\n",
       "      <td>248,159,971</td>\n",
       "    </tr>\n",
       "    <tr>\n",
       "      <th>168</th>\n",
       "      <td>Indiana Jones and the Last Crusade</td>\n",
       "      <td>1989</td>\n",
       "      <td>127 min</td>\n",
       "      <td>Action, Adventure</td>\n",
       "      <td>8.2</td>\n",
       "      <td>In 1938, after his father Professor Henry Jone...</td>\n",
       "      <td>Steven Spielberg</td>\n",
       "      <td>Harrison Ford</td>\n",
       "      <td>Sean Connery</td>\n",
       "      <td>197,171,806</td>\n",
       "    </tr>\n",
       "    <tr>\n",
       "      <th>243</th>\n",
       "      <td>Catch Me If You Can</td>\n",
       "      <td>2002</td>\n",
       "      <td>141 min</td>\n",
       "      <td>Biography, Crime, Drama</td>\n",
       "      <td>8.1</td>\n",
       "      <td>Barely 21 yet, Frank is a skilled forger who h...</td>\n",
       "      <td>Steven Spielberg</td>\n",
       "      <td>Leonardo DiCaprio</td>\n",
       "      <td>Tom Hanks</td>\n",
       "      <td>164,615,351</td>\n",
       "    </tr>\n",
       "  </tbody>\n",
       "</table>\n",
       "</div>"
      ],
      "text/plain": [
       "                            Movie_Title Released_Year  Runtime  \\\n",
       "7                      Schindler's List          1993  195 min   \n",
       "24                  Saving Private Ryan          1998  169 min   \n",
       "72              Raiders of the Lost Ark          1981  115 min   \n",
       "168  Indiana Jones and the Last Crusade          1989  127 min   \n",
       "243                 Catch Me If You Can          2002  141 min   \n",
       "\n",
       "                         Genre  IMDB_Rating  \\\n",
       "7    Biography, Drama, History          8.9   \n",
       "24                  Drama, War          8.6   \n",
       "72           Action, Adventure          8.4   \n",
       "168          Action, Adventure          8.2   \n",
       "243    Biography, Crime, Drama          8.1   \n",
       "\n",
       "                                              Overview          Director  \\\n",
       "7    In German-occupied Poland during World War II,...  Steven Spielberg   \n",
       "24   Following the Normandy Landings, a group of U....  Steven Spielberg   \n",
       "72   In 1936, archaeologist and adventurer Indiana ...  Steven Spielberg   \n",
       "168  In 1938, after his father Professor Henry Jone...  Steven Spielberg   \n",
       "243  Barely 21 yet, Frank is a skilled forger who h...  Steven Spielberg   \n",
       "\n",
       "                 Star1          Star2      Revenue  \n",
       "7          Liam Neeson  Ralph Fiennes   96,898,818  \n",
       "24           Tom Hanks     Matt Damon  216,540,909  \n",
       "72       Harrison Ford    Karen Allen  248,159,971  \n",
       "168      Harrison Ford   Sean Connery  197,171,806  \n",
       "243  Leonardo DiCaprio      Tom Hanks  164,615,351  "
      ]
     },
     "metadata": {},
     "output_type": "display_data"
    }
   ],
   "source": [
    "# Write your own code\n",
    "movies_concat = pd.concat([movies_spielberg, movies_nolan])\n",
    "display(movies_concat.head())\n"
   ]
  }
 ],
 "metadata": {
  "kernelspec": {
   "display_name": "base",
   "language": "python",
   "name": "python3"
  },
  "language_info": {
   "codemirror_mode": {
    "name": "ipython",
    "version": 3
   },
   "file_extension": ".py",
   "mimetype": "text/x-python",
   "name": "python",
   "nbconvert_exporter": "python",
   "pygments_lexer": "ipython3",
   "version": "3.12.7"
  },
  "orig_nbformat": 4
 },
 "nbformat": 4,
 "nbformat_minor": 2
}
